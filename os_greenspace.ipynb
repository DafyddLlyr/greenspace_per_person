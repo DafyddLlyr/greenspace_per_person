{
 "cells": [
  {
   "cell_type": "code",
   "execution_count": null,
   "metadata": {},
   "outputs": [],
   "source": [
    "import json\n",
    "import pandas as pd\n",
    "import geopandas as gpd\n",
    "from keplergl import KeplerGl"
   ]
  },
  {
   "cell_type": "code",
   "execution_count": null,
   "metadata": {},
   "outputs": [],
   "source": [
    "os_greenspace = gpd.read_file('opgrsp_gb.gpkg', layer='GreenspaceSite')\n",
    "os_greenspace.head()"
   ]
  },
  {
   "cell_type": "code",
   "execution_count": null,
   "metadata": {},
   "outputs": [],
   "source": [
    "areas = gpd.read_file(\"constituencies.zip\")\n",
    "areas.head()"
   ]
  },
  {
   "cell_type": "code",
   "execution_count": null,
   "metadata": {},
   "outputs": [],
   "source": [
    "pointInPolys = gpd.tools.sjoin(os_greenspace, areas, how='left')\n",
    "pointInPolys.head()"
   ]
  },
  {
   "cell_type": "code",
   "execution_count": null,
   "metadata": {},
   "outputs": [],
   "source": [
    "dissolve = pointInPolys.dissolve(by=\"PCON20NM\", as_index=False)\n",
    "dissolve = dissolve.set_geometry(\"geometry\")\n",
    "dissolve = dissolve.to_crs(epsg=27700)\n",
    "dissolve.head()"
   ]
  },
  {
   "cell_type": "code",
   "execution_count": null,
   "metadata": {},
   "outputs": [],
   "source": [
    "pop_data = gpd.read_file(\"pop2.csv\")\n",
    "pop_data.head()"
   ]
  },
  {
   "cell_type": "code",
   "execution_count": null,
   "metadata": {},
   "outputs": [],
   "source": [
    "\n",
    "merged = gpd.GeoDataFrame(pd.merge(dissolve, pop_data, left_on=\"PCON20NM\", right_on=\"constituency\"))\n",
    "merged = merged.set_geometry(\"geometry_x\")\n",
    "merged.head()"
   ]
  },
  {
   "cell_type": "code",
   "execution_count": null,
   "metadata": {},
   "outputs": [],
   "source": [
    "map_layer = gpd.GeoDataFrame()\n",
    "map_layer.set_geometry(areas.geometry)\n",
    "map_layer[\"constituency\"] = merged[\"PCON20NM\"]\n",
    "map_layer[\"total_area\"] = areas.geometry.area\n",
    "map_layer[\"greenspace_area\"] = merged.geometry.area\n",
    "map_layer[\"geometry\"] = areas.geometry\n",
    "map_layer[\"population\"] = merged[\"population\"]\n",
    "map_layer[\"greenspace_per_head\"] = map_layer[\"greenspace_area\"] / map_layer[\"population\"].astype(float)\n",
    "map_layer.set_crs(epsg=27700)\n",
    "map_layer.to_crs(epsg=3857)\n",
    "map_layer.head()\n"
   ]
  },
  {
   "cell_type": "code",
   "execution_count": null,
   "metadata": {},
   "outputs": [],
   "source": [
    "map_layer.to_file(\"map_layer.geojson\")\n",
    "map_layer.to_file(\"map_layer.csv\")"
   ]
  },
  {
   "cell_type": "code",
   "execution_count": null,
   "metadata": {},
   "outputs": [],
   "source": [
    "map = KeplerGl()\n",
    "map.add_data(map_layer)\n",
    "# map.add_data(os_greenspace)\n",
    "map"
   ]
  }
 ],
 "metadata": {
  "interpreter": {
   "hash": "ca1b4dadd4b5f1042c30241bbe89743e04877b11050f3c789765dcf767a7040e"
  },
  "kernelspec": {
   "display_name": "Python 3.9.7 64-bit ('base': conda)",
   "language": "python",
   "name": "python3"
  },
  "language_info": {
   "codemirror_mode": {
    "name": "ipython",
    "version": 3
   },
   "file_extension": ".py",
   "mimetype": "text/x-python",
   "name": "python",
   "nbconvert_exporter": "python",
   "pygments_lexer": "ipython3",
   "version": "3.9.7"
  },
  "orig_nbformat": 4
 },
 "nbformat": 4,
 "nbformat_minor": 2
}
